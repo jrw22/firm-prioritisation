{
 "cells": [
  {
   "cell_type": "markdown",
   "id": "65f6ef37",
   "metadata": {},
   "source": [
    "# Technical Assessment - Analyst, Data Science"
   ]
  },
  {
   "cell_type": "markdown",
   "id": "6cbaf6b8",
   "metadata": {},
   "source": [
    "A Supervision Manager has asked you to help in allocating scarce resources, and identify which firms their team should focus on. Supervisory resource may be allocated according to the following characteristics: \n",
    "* Firm size (i.e. the biggest firms need more attention) \n",
    "* Changing business profile (are firms’ data changing substantially year-on-year?) \n",
    "* Outliers from the norm (when looking at a single reporting period, does a firm deviate significantly from the average?) \n",
    "\n",
    "Some typical metrics have been provided in the attached data sheets. These include: \n",
    "* Gross Written Premium (GWP) – total revenue written by an insurer. Equivalent of turnover for a non-insurance firm. \n",
    "* Net Written Premium (NWP) – GWP less reinsurance. NWP / GWP will show how much of the firm’s risk is being passed on to reinsurers. \n",
    "* SCR coverage ratio – a measure of whether a firm is meeting its prudential capital requirements. Greater than 100% means the firm is holding enough capital to meet the requirement. The size of the buffer (i.e. surplus over 100%) can be important. \n",
    "* Gross claims incurred – a large cost to an insurer. Monitoring how these change over time for a firm is vital. \n",
    "* Net combined ratio – (incurred losses plus expenses) / earned premiums. This is a ratio that can indicate the profitability of a firm. If this is less than 100% it indicates a profit. \n",
    "\n",
    "### Task 1\n",
    "\n",
    "Using the data provided, please analyse this data using a programming language of your choosing and produce a short report, including tables and charts, to highlight which firms should receive the most attention, according to the metrics above. \n",
    "\n",
    "### Task 2\n",
    "\n",
    "Please consider using relevant ML techniques to draw out further insights and present them as an annex to your report."
   ]
  },
  {
   "cell_type": "markdown",
   "id": "f92d1216",
   "metadata": {},
   "source": [
    "## 1. Read data"
   ]
  },
  {
   "cell_type": "code",
   "execution_count": 1,
   "id": "61b7235c",
   "metadata": {},
   "outputs": [],
   "source": [
    "import pandas as pd\n",
    "import os\n",
    "\n",
    "os.chdir(\"../\")"
   ]
  },
  {
   "cell_type": "code",
   "execution_count": 2,
   "id": "e5ad4add",
   "metadata": {},
   "outputs": [],
   "source": [
    "general_data = pd.read_excel('technical-assessment-data.xlsx', sheet_name = 'Dataset 1 - General')\n",
    "underwriting_data = pd.read_excel('technical-assessment-data.xlsx', sheet_name = 'Dataset 2 - Underwriting')"
   ]
  },
  {
   "cell_type": "markdown",
   "id": "3cd2979f",
   "metadata": {},
   "source": [
    "## 2. Clean and wrangle"
   ]
  },
  {
   "cell_type": "code",
   "execution_count": 3,
   "id": "364ad0e3",
   "metadata": {},
   "outputs": [],
   "source": [
    "# Refine variables\n",
    "general_data = general_data[['Unnamed: 0',\n",
    " 'NWP (£m) ', 'NWP (£m) .1', 'NWP (£m) .2', 'NWP (£m) .3', 'NWP (£m) .4',\n",
    " 'GWP (£m)', 'GWP (£m).1', 'GWP (£m).2', 'GWP (£m).3', 'GWP (£m).4',\n",
    " 'SCR coverage ratio', 'SCR coverage ratio.1', 'SCR coverage ratio.2', 'SCR coverage ratio.3', 'SCR coverage ratio.4'\n",
    "]]\n",
    "underwriting_data = underwriting_data[['Unnamed: 0',\n",
    " 'Gross claims incurred (£m)', 'Gross claims incurred (£m).1', 'Gross claims incurred (£m).2', 'Gross claims incurred (£m).3', 'Gross claims incurred (£m).4',\n",
    " 'Net combined ratio', 'Net combined ratio.1', 'Net combined ratio.2', 'Net combined ratio.3', 'Net combined ratio.4'\n",
    "]]\n",
    "\n",
    "# Convert df from wide to long\n",
    "general_rename_dict = {'Unnamed: 0': 'firm',\n",
    " 'NWP (£m) ' : 'net-written-premium2016',\n",
    " 'NWP (£m) .1' : 'net-written-premium2017',\n",
    " 'NWP (£m) .2' : 'net-written-premium2018',\n",
    " 'NWP (£m) .3' : 'net-written-premium2019',\n",
    " 'NWP (£m) .4' : 'net-written-premium2020',\n",
    " 'SCR coverage ratio' : 'scr-coverage-ratio2016',\n",
    " 'SCR coverage ratio.1' : 'scr-coverage-ratio2017',\n",
    " 'SCR coverage ratio.2' : 'scr-coverage-ratio2018',\n",
    " 'SCR coverage ratio.3' : 'scr-coverage-ratio2019',\n",
    " 'SCR coverage ratio.4' : 'scr-coverage-ratio2020',\n",
    " 'GWP (£m)' : 'gross-written-premium2016',\n",
    " 'GWP (£m).1' : 'gross-written-premium2017',\n",
    " 'GWP (£m).2' : 'gross-written-premium2018',\n",
    " 'GWP (£m).3' : 'gross-written-premium2019',\n",
    " 'GWP (£m).4' : 'gross-written-premium2020'\n",
    "}\n",
    "general_data.rename(columns = general_rename_dict, inplace = True)\n",
    "general_data.drop([0], inplace = True)\n",
    "general_data = pd.wide_to_long(general_data, ['net-written-premium','scr-coverage-ratio', 'gross-written-premium'], i = 'firm', j = 'year')\n",
    "general_data = general_data.reset_index(level=['firm', 'year'])\n",
    "\n",
    "underwriting_rename_dict = {'Unnamed: 0' : 'firm',\n",
    " 'Gross claims incurred (£m)' : 'gross-claims-incurred2016',\n",
    " 'Gross claims incurred (£m).1' : 'gross-claims-incurred2017',\n",
    " 'Gross claims incurred (£m).2' : 'gross-claims-incurred2018',\n",
    " 'Gross claims incurred (£m).3' : 'gross-claims-incurred2019',\n",
    " 'Gross claims incurred (£m).4' : 'gross-claims-incurred2020',\n",
    " 'Net combined ratio' : 'net-combined-ratio2016',\n",
    " 'Net combined ratio.1' : 'net-combined-ratio2017',\n",
    " 'Net combined ratio.2' : 'net-combined-ratio2018',\n",
    " 'Net combined ratio.3' : 'net-combined-ratio2019',\n",
    " 'Net combined ratio.4' : 'net-combined-ratio2020'\n",
    "}\n",
    "underwriting_data.rename(columns = underwriting_rename_dict, inplace = True)\n",
    "underwriting_data.drop([0], inplace = True)\n",
    "underwriting_data = pd.wide_to_long(underwriting_data, ['gross-claims-incurred', 'net-combined-ratio'], i = 'firm', j = 'year')\n",
    "underwriting_data = underwriting_data.reset_index(level=['firm', 'year'])\n",
    "\n",
    "# Outer join into a single df\n",
    "firm_data = pd.merge(general_data, underwriting_data, on = ['firm', 'year'], how = 'outer')"
   ]
  },
  {
   "cell_type": "code",
   "execution_count": 4,
   "id": "e8f530dc",
   "metadata": {},
   "outputs": [
    {
     "data": {
      "text/html": [
       "<div>\n",
       "<style scoped>\n",
       "    .dataframe tbody tr th:only-of-type {\n",
       "        vertical-align: middle;\n",
       "    }\n",
       "\n",
       "    .dataframe tbody tr th {\n",
       "        vertical-align: top;\n",
       "    }\n",
       "\n",
       "    .dataframe thead th {\n",
       "        text-align: right;\n",
       "    }\n",
       "</style>\n",
       "<table border=\"1\" class=\"dataframe\">\n",
       "  <thead>\n",
       "    <tr style=\"text-align: right;\">\n",
       "      <th></th>\n",
       "      <th>firm</th>\n",
       "      <th>year</th>\n",
       "      <th>net-written-premium</th>\n",
       "      <th>scr-coverage-ratio</th>\n",
       "      <th>gross-written-premium</th>\n",
       "      <th>gross-claims-incurred</th>\n",
       "      <th>net-combined-ratio</th>\n",
       "    </tr>\n",
       "  </thead>\n",
       "  <tbody>\n",
       "    <tr>\n",
       "      <th>0</th>\n",
       "      <td>Firm 1</td>\n",
       "      <td>2016</td>\n",
       "      <td>-17754.100486</td>\n",
       "      <td>0.16252</td>\n",
       "      <td>46.76803</td>\n",
       "      <td>0</td>\n",
       "      <td>0</td>\n",
       "    </tr>\n",
       "    <tr>\n",
       "      <th>1</th>\n",
       "      <td>Firm 2</td>\n",
       "      <td>2016</td>\n",
       "      <td>9.244369</td>\n",
       "      <td>5.648647</td>\n",
       "      <td>41.794375</td>\n",
       "      <td>44.467865</td>\n",
       "      <td>1.276296</td>\n",
       "    </tr>\n",
       "    <tr>\n",
       "      <th>2</th>\n",
       "      <td>Firm 3</td>\n",
       "      <td>2016</td>\n",
       "      <td>0</td>\n",
       "      <td>1.135498</td>\n",
       "      <td>0</td>\n",
       "      <td>0</td>\n",
       "      <td>0</td>\n",
       "    </tr>\n",
       "    <tr>\n",
       "      <th>3</th>\n",
       "      <td>Firm 4</td>\n",
       "      <td>2016</td>\n",
       "      <td>19677.453353</td>\n",
       "      <td>0.679158</td>\n",
       "      <td>43375.80696</td>\n",
       "      <td>14.340938</td>\n",
       "      <td>0.672481</td>\n",
       "    </tr>\n",
       "    <tr>\n",
       "      <th>4</th>\n",
       "      <td>Firm 5</td>\n",
       "      <td>2016</td>\n",
       "      <td>128.812208</td>\n",
       "      <td>1.463499</td>\n",
       "      <td>80.183916</td>\n",
       "      <td>48.738606</td>\n",
       "      <td>0.509871</td>\n",
       "    </tr>\n",
       "  </tbody>\n",
       "</table>\n",
       "</div>"
      ],
      "text/plain": [
       "     firm  year net-written-premium scr-coverage-ratio gross-written-premium  \\\n",
       "0  Firm 1  2016       -17754.100486            0.16252              46.76803   \n",
       "1  Firm 2  2016            9.244369           5.648647             41.794375   \n",
       "2  Firm 3  2016                   0           1.135498                     0   \n",
       "3  Firm 4  2016        19677.453353           0.679158           43375.80696   \n",
       "4  Firm 5  2016          128.812208           1.463499             80.183916   \n",
       "\n",
       "  gross-claims-incurred net-combined-ratio  \n",
       "0                     0                  0  \n",
       "1             44.467865           1.276296  \n",
       "2                     0                  0  \n",
       "3             14.340938           0.672481  \n",
       "4             48.738606           0.509871  "
      ]
     },
     "execution_count": 4,
     "metadata": {},
     "output_type": "execute_result"
    }
   ],
   "source": [
    "firm_data.head()"
   ]
  },
  {
   "cell_type": "code",
   "execution_count": null,
   "id": "94136b0b",
   "metadata": {},
   "outputs": [],
   "source": []
  }
 ],
 "metadata": {
  "kernelspec": {
   "display_name": "Python 3 (ipykernel)",
   "language": "python",
   "name": "python3"
  },
  "language_info": {
   "codemirror_mode": {
    "name": "ipython",
    "version": 3
   },
   "file_extension": ".py",
   "mimetype": "text/x-python",
   "name": "python",
   "nbconvert_exporter": "python",
   "pygments_lexer": "ipython3",
   "version": "3.10.7"
  }
 },
 "nbformat": 4,
 "nbformat_minor": 5
}
