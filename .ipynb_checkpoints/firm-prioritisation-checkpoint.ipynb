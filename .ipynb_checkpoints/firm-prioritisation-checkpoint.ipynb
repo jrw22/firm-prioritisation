{
 "cells": [
  {
   "cell_type": "markdown",
   "id": "515e7ae3",
   "metadata": {},
   "source": [
    "# Technical Assessment - Analyst, Data Science"
   ]
  },
  {
   "cell_type": "markdown",
   "id": "e03a4ae7",
   "metadata": {},
   "source": [
    "A Supervision Manager has asked you to help in allocating scarce resources, and identify which firms their team should focus on. Supervisory resource may be allocated according to the following characteristics: \n",
    "* Firm size (i.e. the biggest firms need more attention) \n",
    "* Changing business profile (are firms’ data changing substantially year-on-year?) \n",
    "* Outliers from the norm (when looking at a single reporting period, does a firm deviate significantly from the average?) \n",
    "\n",
    "Some typical metrics have been provided in the attached data sheets. These include: \n",
    "* Gross Written Premium (GWP) – total revenue written by an insurer. Equivalent of turnover for a non-insurance firm. \n",
    "* Net Written Premium (NWP) – GWP less reinsurance. NWP / GWP will show how much of the firm’s risk is being passed on to reinsurers. \n",
    "* SCR coverage ratio – a measure of whether a firm is meeting its prudential capital requirements. Greater than 100% means the firm is holding enough capital to meet the requirement. The size of the buffer (i.e. surplus over 100%) can be important. \n",
    "* Gross claims incurred – a large cost to an insurer. Monitoring how these change over time for a firm is vital. \n",
    "* Net combined ratio – (incurred losses plus expenses) / earned premiums. This is a ratio that can indicate the profitability of a firm. If this is less than 100% it indicates a profit. \n",
    "\n",
    "### Task 1\n",
    "\n",
    "Using the data provided, please analyse this data using a programming language of your choosing and produce a short report, including tables and charts, to highlight which firms should receive the most attention, according to the metrics above. \n",
    "\n",
    "### Task 2\n",
    "\n",
    "Please consider using relevant ML techniques to draw out further insights and present them as an annex to your report."
   ]
  },
  {
   "cell_type": "markdown",
   "id": "a7a89aa5",
   "metadata": {},
   "source": [
    "## 1. Read data"
   ]
  },
  {
   "cell_type": "code",
   "execution_count": 1,
   "id": "2b090a48",
   "metadata": {},
   "outputs": [],
   "source": [
    "import pandas as pd\n",
    "import os\n",
    "\n",
    "os.chdir(\"../\")"
   ]
  },
  {
   "cell_type": "code",
   "execution_count": 2,
   "id": "8ae5c326",
   "metadata": {},
   "outputs": [],
   "source": [
    "general_data = pd.read_excel('technical-assessment-data.xlsx', sheet_name = 'Dataset 1 - General')\n",
    "underwriting_data = pd.read_excel('technical-assessment-data.xlsx', sheet_name = 'Dataset 2 - Underwriting')"
   ]
  },
  {
   "cell_type": "code",
   "execution_count": null,
   "id": "6f50d46f",
   "metadata": {},
   "outputs": [],
   "source": []
  }
 ],
 "metadata": {
  "kernelspec": {
   "display_name": "Python 3 (ipykernel)",
   "language": "python",
   "name": "python3"
  },
  "language_info": {
   "codemirror_mode": {
    "name": "ipython",
    "version": 3
   },
   "file_extension": ".py",
   "mimetype": "text/x-python",
   "name": "python",
   "nbconvert_exporter": "python",
   "pygments_lexer": "ipython3",
   "version": "3.10.7"
  }
 },
 "nbformat": 4,
 "nbformat_minor": 5
}
